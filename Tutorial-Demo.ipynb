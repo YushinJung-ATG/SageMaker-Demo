{
 "cells": [
  {
   "cell_type": "code",
   "execution_count": 1,
   "id": "found-camera",
   "metadata": {},
   "outputs": [
    {
     "data": {
      "text/plain": [
       "['Age',\n",
       " 'Workclass',\n",
       " 'Education-Num',\n",
       " 'Marital Status',\n",
       " 'Occupation',\n",
       " 'Relationship',\n",
       " 'Race',\n",
       " 'Sex',\n",
       " 'Capital Gain',\n",
       " 'Capital Loss',\n",
       " 'Hours per week',\n",
       " 'Country']"
      ]
     },
     "execution_count": 1,
     "metadata": {},
     "output_type": "execute_result"
    }
   ],
   "source": [
    "import shap\n",
    "X, y = shap.datasets.adult()\n",
    "X_display, y_display = shap.datasets.adult(display=True)\n",
    "feature_names = list(X.columns)\n",
    "feature_names"
   ]
  },
  {
   "cell_type": "markdown",
   "id": "patent-muslim",
   "metadata": {},
   "source": [
    "Overview the Dataset"
   ]
  },
  {
   "cell_type": "code",
   "execution_count": null,
   "id": "moving-strike",
   "metadata": {},
   "outputs": [],
   "source": [
    "display(X.describe())\n",
    "hist = X.hist(bins=30, sharey=True, figsize=(20, 10))"
   ]
  },
  {
   "cell_type": "code",
   "execution_count": null,
   "id": "confirmed-airfare",
   "metadata": {},
   "outputs": [],
   "source": []
  },
  {
   "cell_type": "code",
   "execution_count": null,
   "id": "extensive-doctrine",
   "metadata": {},
   "outputs": [],
   "source": [
    "%conda install -c conda-forge shap"
   ]
  },
  {
   "cell_type": "markdown",
   "id": "cross-latest",
   "metadata": {},
   "source": [
    "* After updates shutdown the kernel. the kernel will restart automatically"
   ]
  },
  {
   "cell_type": "code",
   "execution_count": 4,
   "id": "imposed-alert",
   "metadata": {},
   "outputs": [
    {
     "data": {
      "text/plain": [
       "{'status': 'ok', 'restart': True}"
      ]
     },
     "execution_count": 4,
     "metadata": {},
     "output_type": "execute_result"
    }
   ],
   "source": [
    "import IPython\n",
    "IPython.Application.instance().kernel.do_shutdown(True)"
   ]
  }
 ],
 "metadata": {
  "kernelspec": {
   "display_name": "conda_tensorflow2_p36",
   "language": "python",
   "name": "conda_tensorflow2_p36"
  },
  "language_info": {
   "codemirror_mode": {
    "name": "ipython",
    "version": 3
   },
   "file_extension": ".py",
   "mimetype": "text/x-python",
   "name": "python",
   "nbconvert_exporter": "python",
   "pygments_lexer": "ipython3",
   "version": "3.6.13"
  }
 },
 "nbformat": 4,
 "nbformat_minor": 5
}
